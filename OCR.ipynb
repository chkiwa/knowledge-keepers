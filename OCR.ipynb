{
 "cells": [
  {
   "cell_type": "code",
   "execution_count": 3,
   "id": "eb5c0cc1",
   "metadata": {},
   "outputs": [
    {
     "name": "stdout",
     "output_type": "stream",
     "text": [
      "Requirement already satisfied: pytesseract in d:\\applications\\anaconda\\lib\\site-packages (0.3.10)\n",
      "Requirement already satisfied: Pillow>=8.0.0 in d:\\applications\\anaconda\\lib\\site-packages (from pytesseract) (9.4.0)\n",
      "Requirement already satisfied: packaging>=21.3 in d:\\applications\\anaconda\\lib\\site-packages (from pytesseract) (22.0)\n"
     ]
    }
   ],
   "source": [
    "!pip install pytesseract\n"
   ]
  },
  {
   "cell_type": "code",
   "execution_count": 1,
   "id": "33283e78",
   "metadata": {},
   "outputs": [],
   "source": [
    "from PIL import Image\n",
    "import pytesseract\n",
    "import numpy as np\n",
    "import cv2\n",
    "import re"
   ]
  },
  {
   "cell_type": "code",
   "execution_count": 2,
   "id": "c722788b",
   "metadata": {},
   "outputs": [],
   "source": [
    "pytesseract.pytesseract.tesseract_cmd = r'C:\\Program Files\\Tesseract-OCR\\tesseract.exe'"
   ]
  },
  {
   "cell_type": "code",
   "execution_count": 93,
   "id": "b4ae8a59",
   "metadata": {},
   "outputs": [],
   "source": [
    "filename = '0.PNG'\n",
    "img1 = np.array(Image.open(filename))\n",
    "text = pytesseract.image_to_string(img1, config='--psm 6 -c tessedit_char_whitelist=0123456789 ')"
   ]
  },
  {
   "cell_type": "code",
   "execution_count": 94,
   "id": "ce77aa11",
   "metadata": {},
   "outputs": [
    {
     "name": "stdout",
     "output_type": "stream",
     "text": [
      "['0']\n"
     ]
    }
   ],
   "source": [
    "# Use regular expressions to extract only digits\n",
    "digits = re.findall(r'\\d+', text)\n",
    "\n",
    "# Print the extracted digits\n",
    "print(digits)"
   ]
  },
  {
   "cell_type": "code",
   "execution_count": 6,
   "id": "ab24b515",
   "metadata": {},
   "outputs": [],
   "source": [
    "# Load image using OpenCV\n",
    "img = cv2.imread('c.PNG')\n",
    "# Convert to grayscale\n",
    "gray = cv2.cvtColor(img, cv2.COLOR_BGR2GRAY)\n",
    "\n",
    "\n",
    "# Apply thresholding\n",
    "thresh = cv2.threshold(gray, 0, 255, cv2.THRESH_BINARY_INV + cv2.THRESH_OTSU)[1]\n",
    "\n",
    "# Apply dilation\n",
    "kernel = cv2.getStructuringElement(cv2.MORPH_RECT, (3,3))\n",
    "dilated = cv2.dilate(thresh, kernel, iterations=3)\n",
    "btext = pytesseract.image_to_string(img1, config='--psm 6 -c tessedit_char_whitelist=0123456789 ')"
   ]
  },
  {
   "cell_type": "code",
   "execution_count": 90,
   "id": "480b6c09",
   "metadata": {},
   "outputs": [
    {
     "name": "stdout",
     "output_type": "stream",
     "text": [
      "55\n",
      "\n"
     ]
    }
   ],
   "source": [
    "print(btext)"
   ]
  },
  {
   "cell_type": "code",
   "execution_count": 15,
   "id": "7faae661",
   "metadata": {},
   "outputs": [
    {
     "name": "stdout",
     "output_type": "stream",
     "text": [
      "8\n",
      "\n"
     ]
    },
    {
     "data": {
      "text/plain": [
       "-1"
      ]
     },
     "execution_count": 15,
     "metadata": {},
     "output_type": "execute_result"
    }
   ],
   "source": [
    "\n",
    "# Create a blank white image\n",
    "image = 255 * np.ones((1000, 1200, 3), dtype=np.uint8)\n",
    "\n",
    "# Create a window to display the image\n",
    "cv2.namedWindow('Whiteboard')\n",
    "\n",
    "# Set up mouse event handlers\n",
    "def mouse_handler(event, x, y, flags, param):\n",
    "    global image\n",
    "\n",
    "    if event == cv2.EVENT_LBUTTONDOWN:\n",
    "        # Start drawing a line\n",
    "        cv2.circle(image, (x, y), 20, (0, 0, 0), -20)\n",
    "        cv2.imshow('Whiteboard', image)\n",
    "\n",
    "    elif event == cv2.EVENT_MOUSEMOVE and flags == cv2.EVENT_FLAG_LBUTTON:\n",
    "        # Continue drawing the line\n",
    "        cv2.circle(image, (x, y), 20, (0, 0, 0), -20)\n",
    "        cv2.imshow('Whiteboard', image)\n",
    "\n",
    "    elif event == cv2.EVENT_LBUTTONUP:\n",
    "        # Stop drawing the line\n",
    "        cv2.circle(image, (x, y), 20, (0, 0, 0), -20)\n",
    "        cv2.imshow('Whiteboard', image)\n",
    "        \n",
    "\n",
    "    elif event == cv2.EVENT_RBUTTONUP:\n",
    "        # Preprocess the image\n",
    "\n",
    "\n",
    "        # Extract text from the preprocessed image using Tesseract OCR\n",
    "        text = pytesseract.image_to_string(image, config='--psm 6 -c tessedit_char_whitelist=0123456789+-/*= ')\n",
    "\n",
    "        # Print the extracted text\n",
    "        print(text)\n",
    "\n",
    "        \n",
    "        # Close the whiteboard window\n",
    "        cv2.destroyAllWindows()\n",
    "\n",
    "cv2.setMouseCallback('Whiteboard', mouse_handler)\n",
    "\n",
    "# Display the whiteboard and wait for user input\n",
    "cv2.imshow('Whiteboard', image)\n",
    "cv2.waitKey(0)\n"
   ]
  }
 ],
 "metadata": {
  "kernelspec": {
   "display_name": "Python 3 (ipykernel)",
   "language": "python",
   "name": "python3"
  },
  "language_info": {
   "codemirror_mode": {
    "name": "ipython",
    "version": 3
   },
   "file_extension": ".py",
   "mimetype": "text/x-python",
   "name": "python",
   "nbconvert_exporter": "python",
   "pygments_lexer": "ipython3",
   "version": "3.8.16"
  }
 },
 "nbformat": 4,
 "nbformat_minor": 5
}
