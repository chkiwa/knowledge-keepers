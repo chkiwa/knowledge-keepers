{
 "cells": [
  {
   "cell_type": "code",
   "execution_count": 31,
   "id": "0e85d63b",
   "metadata": {},
   "outputs": [],
   "source": [
    "import pandas as pd\n",
    "import matplotlib.pyplot as plt           \n",
    "import random \n",
    "import re\n",
    "import nltk\n",
    "from nltk.corpus import stopwords\n",
    "from sklearn.feature_extraction.text import CountVectorizer\n",
    "from sklearn.linear_model import LogisticRegression\n",
    "from sklearn.model_selection import train_test_split\n",
    "from sklearn.metrics import accuracy_score\n",
    "from sklearn.tree import DecisionTreeClassifier # Import Decision Tree Classifier"
   ]
  },
  {
   "cell_type": "markdown",
   "id": "11c00080",
   "metadata": {},
   "source": [
    "# Data understanding + Data Preprocessing "
   ]
  },
  {
   "cell_type": "code",
   "execution_count": 32,
   "id": "65772895",
   "metadata": {},
   "outputs": [],
   "source": [
    "df1 = pd.read_excel('Scrapped.xls')\n",
    "df3 = pd.read_excel('tot.xls')\n",
    "df=pd.concat([df1,df3])"
   ]
  },
  {
   "cell_type": "code",
   "execution_count": 33,
   "id": "09ccd8af",
   "metadata": {},
   "outputs": [
    {
     "data": {
      "text/html": [
       "<div>\n",
       "<style scoped>\n",
       "    .dataframe tbody tr th:only-of-type {\n",
       "        vertical-align: middle;\n",
       "    }\n",
       "\n",
       "    .dataframe tbody tr th {\n",
       "        vertical-align: top;\n",
       "    }\n",
       "\n",
       "    .dataframe thead th {\n",
       "        text-align: right;\n",
       "    }\n",
       "</style>\n",
       "<table border=\"1\" class=\"dataframe\">\n",
       "  <thead>\n",
       "    <tr style=\"text-align: right;\">\n",
       "      <th></th>\n",
       "      <th>Problem</th>\n",
       "      <th>Answer</th>\n",
       "      <th>Grade</th>\n",
       "    </tr>\n",
       "  </thead>\n",
       "  <tbody>\n",
       "    <tr>\n",
       "      <th>0</th>\n",
       "      <td>\\r\\n\\t\\t\\t\\t\\t\\t\\t\\t\\t\\t    During the summer ...</td>\n",
       "      <td>4 hours.</td>\n",
       "      <td>5th</td>\n",
       "    </tr>\n",
       "    <tr>\n",
       "      <th>1</th>\n",
       "      <td>\\r\\n\\t\\t\\t\\t\\t\\t\\t\\t\\t\\t   Our class made 360 ...</td>\n",
       "      <td>360:40=9.</td>\n",
       "      <td>5th</td>\n",
       "    </tr>\n",
       "    <tr>\n",
       "      <th>2</th>\n",
       "      <td>\\r\\n\\t\\t\\t\\t\\t\\t\\t\\t\\t\\t\\tMom bought her daugh...</td>\n",
       "      <td>4*24+6*18=204.</td>\n",
       "      <td>5th</td>\n",
       "    </tr>\n",
       "    <tr>\n",
       "      <th>3</th>\n",
       "      <td>\\r\\n\\t\\t\\t\\t\\t\\t\\t\\t\\t\\t\\t5th grade students g...</td>\n",
       "      <td>3 buses.</td>\n",
       "      <td>5th</td>\n",
       "    </tr>\n",
       "    <tr>\n",
       "      <th>4</th>\n",
       "      <td>\\r\\n\\t\\t\\t\\t\\t\\t\\t\\t\\t\\t\\tYour mom bought you ...</td>\n",
       "      <td>$25.</td>\n",
       "      <td>5th</td>\n",
       "    </tr>\n",
       "  </tbody>\n",
       "</table>\n",
       "</div>"
      ],
      "text/plain": [
       "                                             Problem          Answer Grade\n",
       "0  \\r\\n\\t\\t\\t\\t\\t\\t\\t\\t\\t\\t    During the summer ...        4 hours.   5th\n",
       "1  \\r\\n\\t\\t\\t\\t\\t\\t\\t\\t\\t\\t   Our class made 360 ...       360:40=9.   5th\n",
       "2  \\r\\n\\t\\t\\t\\t\\t\\t\\t\\t\\t\\t\\tMom bought her daugh...  4*24+6*18=204.   5th\n",
       "3  \\r\\n\\t\\t\\t\\t\\t\\t\\t\\t\\t\\t\\t5th grade students g...        3 buses.   5th\n",
       "4  \\r\\n\\t\\t\\t\\t\\t\\t\\t\\t\\t\\t\\tYour mom bought you ...            $25.   5th"
      ]
     },
     "execution_count": 33,
     "metadata": {},
     "output_type": "execute_result"
    }
   ],
   "source": [
    "df.head()"
   ]
  },
  {
   "cell_type": "code",
   "execution_count": 34,
   "id": "3cfe1d3a",
   "metadata": {},
   "outputs": [
    {
     "data": {
      "text/html": [
       "<div>\n",
       "<style scoped>\n",
       "    .dataframe tbody tr th:only-of-type {\n",
       "        vertical-align: middle;\n",
       "    }\n",
       "\n",
       "    .dataframe tbody tr th {\n",
       "        vertical-align: top;\n",
       "    }\n",
       "\n",
       "    .dataframe thead th {\n",
       "        text-align: right;\n",
       "    }\n",
       "</style>\n",
       "<table border=\"1\" class=\"dataframe\">\n",
       "  <thead>\n",
       "    <tr style=\"text-align: right;\">\n",
       "      <th></th>\n",
       "      <th>Problem</th>\n",
       "      <th>Answer</th>\n",
       "      <th>Grade</th>\n",
       "    </tr>\n",
       "  </thead>\n",
       "  <tbody>\n",
       "    <tr>\n",
       "      <th>0</th>\n",
       "      <td>During the summer holidays, Ginny earns ex...</td>\n",
       "      <td>4 hours.</td>\n",
       "      <td>5th</td>\n",
       "    </tr>\n",
       "    <tr>\n",
       "      <th>1</th>\n",
       "      <td>Our class made 360 ​​cookies for the school...</td>\n",
       "      <td>360:40=9.</td>\n",
       "      <td>5th</td>\n",
       "    </tr>\n",
       "    <tr>\n",
       "      <th>2</th>\n",
       "      <td>Mom bought her daughter Molly 4 gifts of $24 e...</td>\n",
       "      <td>4*24+6*18=204.</td>\n",
       "      <td>5th</td>\n",
       "    </tr>\n",
       "    <tr>\n",
       "      <th>3</th>\n",
       "      <td>5th grade students going on an excursion. This...</td>\n",
       "      <td>3 buses.</td>\n",
       "      <td>5th</td>\n",
       "    </tr>\n",
       "    <tr>\n",
       "      <th>4</th>\n",
       "      <td>Your mom bought you a one-year tennis pass for...</td>\n",
       "      <td>$25.</td>\n",
       "      <td>5th</td>\n",
       "    </tr>\n",
       "    <tr>\n",
       "      <th>...</th>\n",
       "      <td>...</td>\n",
       "      <td>...</td>\n",
       "      <td>...</td>\n",
       "    </tr>\n",
       "    <tr>\n",
       "      <th>2370</th>\n",
       "      <td>Shane has 21 meters of yellow ribbon and 42 me...</td>\n",
       "      <td>21 ÷ 3/7 = 49 She can have 49 smaller pieces o...</td>\n",
       "      <td>Grade 5</td>\n",
       "    </tr>\n",
       "    <tr>\n",
       "      <th>2371</th>\n",
       "      <td>She used 1/3 of a package of sequins and 4/5 s...</td>\n",
       "      <td>1/3 ÷ 4 x 7 = 7/12 She needs 7/12 pack of sequ...</td>\n",
       "      <td>Grade 5</td>\n",
       "    </tr>\n",
       "    <tr>\n",
       "      <th>2372</th>\n",
       "      <td>Her assistant can sew 5 identical pairs of pan...</td>\n",
       "      <td>1/4 ÷ 5 = 1/20 It takes 1/20 day to sew 1 pair...</td>\n",
       "      <td>Grade 5</td>\n",
       "    </tr>\n",
       "    <tr>\n",
       "      <th>2373</th>\n",
       "      <td>Francine used 5/7 meters of yarn to string one...</td>\n",
       "      <td>70 ÷ 5/7 = 98 She can string 98 notebooks from...</td>\n",
       "      <td>Grade 5</td>\n",
       "    </tr>\n",
       "    <tr>\n",
       "      <th>2374</th>\n",
       "      <td>Shelby used 3/4 of a lace roll for her bulk or...</td>\n",
       "      <td>(1 – 3/4 ) ÷ 8 = 1/4 ÷ 8 = 1/32 She used 1/32 ...</td>\n",
       "      <td>Grade 5</td>\n",
       "    </tr>\n",
       "  </tbody>\n",
       "</table>\n",
       "<p>2574 rows × 3 columns</p>\n",
       "</div>"
      ],
      "text/plain": [
       "                                                Problem  \\\n",
       "0         During the summer holidays, Ginny earns ex...   \n",
       "1        Our class made 360 ​​cookies for the school...   \n",
       "2     Mom bought her daughter Molly 4 gifts of $24 e...   \n",
       "3     5th grade students going on an excursion. This...   \n",
       "4     Your mom bought you a one-year tennis pass for...   \n",
       "...                                                 ...   \n",
       "2370  Shane has 21 meters of yellow ribbon and 42 me...   \n",
       "2371  She used 1/3 of a package of sequins and 4/5 s...   \n",
       "2372  Her assistant can sew 5 identical pairs of pan...   \n",
       "2373  Francine used 5/7 meters of yarn to string one...   \n",
       "2374  Shelby used 3/4 of a lace roll for her bulk or...   \n",
       "\n",
       "                                                 Answer    Grade  \n",
       "0                                              4 hours.      5th  \n",
       "1                                             360:40=9.      5th  \n",
       "2                                        4*24+6*18=204.      5th  \n",
       "3                                              3 buses.      5th  \n",
       "4                                                  $25.      5th  \n",
       "...                                                 ...      ...  \n",
       "2370  21 ÷ 3/7 = 49 She can have 49 smaller pieces o...  Grade 5  \n",
       "2371  1/3 ÷ 4 x 7 = 7/12 She needs 7/12 pack of sequ...  Grade 5  \n",
       "2372  1/4 ÷ 5 = 1/20 It takes 1/20 day to sew 1 pair...  Grade 5  \n",
       "2373  70 ÷ 5/7 = 98 She can string 98 notebooks from...  Grade 5  \n",
       "2374  (1 – 3/4 ) ÷ 8 = 1/4 ÷ 8 = 1/32 She used 1/32 ...  Grade 5  \n",
       "\n",
       "[2574 rows x 3 columns]"
      ]
     },
     "execution_count": 34,
     "metadata": {},
     "output_type": "execute_result"
    }
   ],
   "source": [
    "# replacing \\n\\r\\t with ''\n",
    "df = df.replace('[\\n\\r\\t]','', regex=True)\n",
    "df"
   ]
  },
  {
   "cell_type": "code",
   "execution_count": 35,
   "id": "e2fee83e",
   "metadata": {},
   "outputs": [
    {
     "data": {
      "text/plain": [
       "Grade 6    1306\n",
       "8-10        326\n",
       "3rd         206\n",
       "Grade 2     147\n",
       "Grade 5     101\n",
       "Grade 3     100\n",
       "Grade 1      99\n",
       "5th          96\n",
       "Grade 4      95\n",
       "4th          66\n",
       "2nd          30\n",
       "Grade2        2\n",
       "Name: Grade, dtype: int64"
      ]
     },
     "execution_count": 35,
     "metadata": {},
     "output_type": "execute_result"
    }
   ],
   "source": [
    "df.Grade.value_counts()"
   ]
  },
  {
   "cell_type": "code",
   "execution_count": 36,
   "id": "a1b31cdc",
   "metadata": {},
   "outputs": [],
   "source": [
    "df['Grade']=df['Grade'].replace('5th',' 5').replace('4th', ' 4').replace('3rd', ' 3').replace('2nd', ' 2').replace('8-10', ' 4').replace('Grade 1', ' 1').replace('Grade 2', ' 2').replace('Grade 3', ' 3').replace('Grade 4', ' 4').replace('Grade 5', ' 5').replace('Grade 6', ' 6').replace('Grade2', ' 2')"
   ]
  },
  {
   "cell_type": "code",
   "execution_count": 37,
   "id": "801394f0",
   "metadata": {},
   "outputs": [
    {
     "data": {
      "text/html": [
       "<div>\n",
       "<style scoped>\n",
       "    .dataframe tbody tr th:only-of-type {\n",
       "        vertical-align: middle;\n",
       "    }\n",
       "\n",
       "    .dataframe tbody tr th {\n",
       "        vertical-align: top;\n",
       "    }\n",
       "\n",
       "    .dataframe thead th {\n",
       "        text-align: right;\n",
       "    }\n",
       "</style>\n",
       "<table border=\"1\" class=\"dataframe\">\n",
       "  <thead>\n",
       "    <tr style=\"text-align: right;\">\n",
       "      <th></th>\n",
       "      <th>Problem</th>\n",
       "      <th>Answer</th>\n",
       "      <th>Grade</th>\n",
       "    </tr>\n",
       "  </thead>\n",
       "  <tbody>\n",
       "    <tr>\n",
       "      <th>0</th>\n",
       "      <td>During the summer holidays, Ginny earns ex...</td>\n",
       "      <td>4 hours.</td>\n",
       "      <td>5</td>\n",
       "    </tr>\n",
       "    <tr>\n",
       "      <th>1</th>\n",
       "      <td>Our class made 360 ​​cookies for the school...</td>\n",
       "      <td>360:40=9.</td>\n",
       "      <td>5</td>\n",
       "    </tr>\n",
       "    <tr>\n",
       "      <th>2</th>\n",
       "      <td>Mom bought her daughter Molly 4 gifts of $24 e...</td>\n",
       "      <td>4*24+6*18=204.</td>\n",
       "      <td>5</td>\n",
       "    </tr>\n",
       "    <tr>\n",
       "      <th>3</th>\n",
       "      <td>5th grade students going on an excursion. This...</td>\n",
       "      <td>3 buses.</td>\n",
       "      <td>5</td>\n",
       "    </tr>\n",
       "    <tr>\n",
       "      <th>4</th>\n",
       "      <td>Your mom bought you a one-year tennis pass for...</td>\n",
       "      <td>$25.</td>\n",
       "      <td>5</td>\n",
       "    </tr>\n",
       "  </tbody>\n",
       "</table>\n",
       "</div>"
      ],
      "text/plain": [
       "                                             Problem          Answer Grade\n",
       "0      During the summer holidays, Ginny earns ex...        4 hours.     5\n",
       "1     Our class made 360 ​​cookies for the school...       360:40=9.     5\n",
       "2  Mom bought her daughter Molly 4 gifts of $24 e...  4*24+6*18=204.     5\n",
       "3  5th grade students going on an excursion. This...        3 buses.     5\n",
       "4  Your mom bought you a one-year tennis pass for...            $25.     5"
      ]
     },
     "execution_count": 37,
     "metadata": {},
     "output_type": "execute_result"
    }
   ],
   "source": [
    "df.head()"
   ]
  },
  {
   "cell_type": "code",
   "execution_count": 38,
   "id": "d01b1952",
   "metadata": {},
   "outputs": [
    {
     "data": {
      "image/png": "[encoded data removed]",
      "text/plain": [
       "<Figure size 1000x400 with 1 Axes>"
      ]
     },
     "metadata": {},
     "output_type": "display_data"
    }
   ],
   "source": [
    "Grade=['1','2','3','4','5','6']\n",
    "plt.figure(figsize=(10,4))\n",
    "plt.title(\"Grades Distrubtion\")\n",
    "plt.ylabel(\"Number of problem\")\n",
    "plt.xlabel(\"Grades\")\n",
    "df.Grade.value_counts().plot(kind='bar');"
   ]
  },
  {
   "cell_type": "code",
   "execution_count": 39,
   "id": "bc0e8f91",
   "metadata": {},
   "outputs": [
    {
     "name": "stderr",
     "output_type": "stream",
     "text": [
      "[nltk_data] Downloading package stopwords to C:\\Users\\Nour\n",
      "[nltk_data]     chkiwa\\AppData\\Roaming\\nltk_data...\n",
      "[nltk_data]   Package stopwords is already up-to-date!\n"
     ]
    }
   ],
   "source": [
    "# Clean and preprocess the text data\n",
    "nltk.download('stopwords')\n",
    "stop_words = set(stopwords.words('english'))"
   ]
  },
  {
   "cell_type": "code",
   "execution_count": 40,
   "id": "1fbc55c4",
   "metadata": {},
   "outputs": [],
   "source": [
    "def clean_text(text):\n",
    "    # Remove non-alphanumeric characters and convert to lowercase\n",
    "    text = re.sub(r'[^a-zA-Z0-9\\s]', '', text).lower()\n",
    "    # Remove stop words\n",
    "    text = ' '.join([word for word in text.split() if word not in stop_words])\n",
    "    # Apply stemming\n",
    "    stemmer = nltk.PorterStemmer()\n",
    "    text = ' '.join([stemmer.stem(word) for word in text.split()])\n",
    "    return text"
   ]
  },
  {
   "cell_type": "code",
   "execution_count": 41,
   "id": "2b660f37",
   "metadata": {},
   "outputs": [],
   "source": [
    "df['Problem'] = df['Problem'].apply(clean_text)"
   ]
  },
  {
   "cell_type": "markdown",
   "id": "23c3164f",
   "metadata": {},
   "source": [
    "# Grade prediction with multiclass logistic regression model"
   ]
  },
  {
   "cell_type": "code",
   "execution_count": 42,
   "id": "5058e715",
   "metadata": {},
   "outputs": [],
   "source": [
    "# Split the dataset into features (X) and target variable (y) \n",
    "X = df.apply(lambda x: x.Problem+x.Answer,axis=1)\n",
    "y = df[\"Grade\"]"
   ]
  },
  {
   "cell_type": "code",
   "execution_count": 43,
   "id": "a9a4d2f3",
   "metadata": {},
   "outputs": [],
   "source": [
    "# There are a few situations where Count Vectorizer can work better than Tfidf.\n",
    "# One is if your text data is very short – in this case, you may get better results using CountVectorizer\n",
    "vectorizer = CountVectorizer()\n",
    "X = vectorizer.fit_transform(X)"
   ]
  },
  {
   "cell_type": "code",
   "execution_count": 44,
   "id": "dca33548",
   "metadata": {},
   "outputs": [
    {
     "name": "stdout",
     "output_type": "stream",
     "text": [
      "Accuracy: 0.8757281553398059\n"
     ]
    }
   ],
   "source": [
    "X_train, X_test, y_train, y_test = train_test_split(X, y, test_size=0.2, random_state=42)\n",
    "# Train a multiclass logistic regression model\n",
    "model = LogisticRegression(multi_class='auto', solver='lbfgs')\n",
    "model.fit(X_train, y_train)\n",
    "# Use the model to predict the labels for the testing set\n",
    "y_pred = model.predict(X_test)\n",
    "\n",
    "# Evaluate the accuracy of the model\n",
    "accuracy = accuracy_score(y_test, y_pred)\n",
    "print(\"Accuracy:\", accuracy)"
   ]
  },
  {
   "cell_type": "code",
   "execution_count": 45,
   "id": "5741ef2a",
   "metadata": {},
   "outputs": [],
   "source": [
    "topre = pd.read_excel('EDCRAFT.xlsx')\n",
    "topre['Problem'] = topre['Problem'].apply(clean_text)\n",
    "Xp =topre.apply(lambda x: x.Problem+str(x.Answer),axis=1)\n",
    "Xp_transformed = vectorizer.transform(Xp)\n",
    "ypred = model.predict(Xp_transformed)"
   ]
  },
  {
   "cell_type": "code",
   "execution_count": 46,
   "id": "7741f5c5",
   "metadata": {},
   "outputs": [
    {
     "data": {
      "text/html": [
       "<div>\n",
       "<style scoped>\n",
       "    .dataframe tbody tr th:only-of-type {\n",
       "        vertical-align: middle;\n",
       "    }\n",
       "\n",
       "    .dataframe tbody tr th {\n",
       "        vertical-align: top;\n",
       "    }\n",
       "\n",
       "    .dataframe thead th {\n",
       "        text-align: right;\n",
       "    }\n",
       "</style>\n",
       "<table border=\"1\" class=\"dataframe\">\n",
       "  <thead>\n",
       "    <tr style=\"text-align: right;\">\n",
       "      <th></th>\n",
       "      <th>Problem</th>\n",
       "      <th>Answer</th>\n",
       "      <th>Grade</th>\n",
       "    </tr>\n",
       "  </thead>\n",
       "  <tbody>\n",
       "    <tr>\n",
       "      <th>0</th>\n",
       "      <td>peter eight appl denni give peter three mani a...</td>\n",
       "      <td>8 apples + 3 apples = 11 apples.</td>\n",
       "      <td>4</td>\n",
       "    </tr>\n",
       "    <tr>\n",
       "      <th>1</th>\n",
       "      <td>ann seven candi lack give seven candi mani can...</td>\n",
       "      <td>7 candies + 7 candies = 14 candies.</td>\n",
       "      <td>1</td>\n",
       "    </tr>\n",
       "    <tr>\n",
       "      <th>2</th>\n",
       "      <td>walter two book matt nine book matt give book ...</td>\n",
       "      <td>2 books + 9 books = 11 books.</td>\n",
       "      <td>1</td>\n",
       "    </tr>\n",
       "    <tr>\n",
       "      <th>3</th>\n",
       "      <td>three crayon tabl albert put five crayon tabl ...</td>\n",
       "      <td>3 crayons + 5 crayons = 8 crayons.</td>\n",
       "      <td>1</td>\n",
       "    </tr>\n",
       "    <tr>\n",
       "      <th>4</th>\n",
       "      <td>bill nine orang friend one orang friend give o...</td>\n",
       "      <td>9 oranges + 1 orange = 10 oranges.</td>\n",
       "      <td>1</td>\n",
       "    </tr>\n",
       "  </tbody>\n",
       "</table>\n",
       "</div>"
      ],
      "text/plain": [
       "                                             Problem  \\\n",
       "0  peter eight appl denni give peter three mani a...   \n",
       "1  ann seven candi lack give seven candi mani can...   \n",
       "2  walter two book matt nine book matt give book ...   \n",
       "3  three crayon tabl albert put five crayon tabl ...   \n",
       "4  bill nine orang friend one orang friend give o...   \n",
       "\n",
       "                                 Answer Grade  \n",
       "0      8 apples + 3 apples = 11 apples.     4  \n",
       "1   7 candies + 7 candies = 14 candies.     1  \n",
       "2         2 books + 9 books = 11 books.     1  \n",
       "3    3 crayons + 5 crayons = 8 crayons.     1  \n",
       "4    9 oranges + 1 orange = 10 oranges.     1  "
      ]
     },
     "execution_count": 46,
     "metadata": {},
     "output_type": "execute_result"
    }
   ],
   "source": [
    "#Grade prediction on the dataset\n",
    "topre[\"Grade\"] = ypred\n",
    "topre.head()"
   ]
  },
  {
   "cell_type": "code",
   "execution_count": 47,
   "id": "ab7e4d14",
   "metadata": {},
   "outputs": [],
   "source": [
    "df_f=pd.concat([df,topre])"
   ]
  },
  {
   "cell_type": "code",
   "execution_count": 48,
   "id": "47a701c4",
   "metadata": {},
   "outputs": [
    {
     "data": {
      "text/html": [
       "<div>\n",
       "<style scoped>\n",
       "    .dataframe tbody tr th:only-of-type {\n",
       "        vertical-align: middle;\n",
       "    }\n",
       "\n",
       "    .dataframe tbody tr th {\n",
       "        vertical-align: top;\n",
       "    }\n",
       "\n",
       "    .dataframe thead th {\n",
       "        text-align: right;\n",
       "    }\n",
       "</style>\n",
       "<table border=\"1\" class=\"dataframe\">\n",
       "  <thead>\n",
       "    <tr style=\"text-align: right;\">\n",
       "      <th></th>\n",
       "      <th>Problem</th>\n",
       "      <th>Answer</th>\n",
       "      <th>Grade</th>\n",
       "    </tr>\n",
       "  </thead>\n",
       "  <tbody>\n",
       "    <tr>\n",
       "      <th>0</th>\n",
       "      <td>summer holiday ginni earn extra money mow lawn...</td>\n",
       "      <td>4 hours.</td>\n",
       "      <td>5</td>\n",
       "    </tr>\n",
       "    <tr>\n",
       "      <th>1</th>\n",
       "      <td>class made 360 cooki school fair famili prepar...</td>\n",
       "      <td>360:40=9.</td>\n",
       "      <td>5</td>\n",
       "    </tr>\n",
       "    <tr>\n",
       "      <th>2</th>\n",
       "      <td>mom bought daughter molli 4 gift 24 sun max 6 ...</td>\n",
       "      <td>4*24+6*18=204.</td>\n",
       "      <td>5</td>\n",
       "    </tr>\n",
       "    <tr>\n",
       "      <th>3</th>\n",
       "      <td>5th grade student go excurs mean 125 student m...</td>\n",
       "      <td>3 buses.</td>\n",
       "      <td>5</td>\n",
       "    </tr>\n",
       "    <tr>\n",
       "      <th>4</th>\n",
       "      <td>mom bought oneyear tenni pass 300she make 12 p...</td>\n",
       "      <td>$25.</td>\n",
       "      <td>5</td>\n",
       "    </tr>\n",
       "    <tr>\n",
       "      <th>...</th>\n",
       "      <td>...</td>\n",
       "      <td>...</td>\n",
       "      <td>...</td>\n",
       "    </tr>\n",
       "    <tr>\n",
       "      <th>87</th>\n",
       "      <td>8 x peopl orchard later noon 27 peopl left orc...</td>\n",
       "      <td>x = 30 + 27 = 57 people</td>\n",
       "      <td>5</td>\n",
       "    </tr>\n",
       "    <tr>\n",
       "      <th>88</th>\n",
       "      <td>toni sprint 22 mile 4 mile per hour long toni ...</td>\n",
       "      <td>22 miles divided by 4 miles per hour = 5.5 ho...</td>\n",
       "      <td>4</td>\n",
       "    </tr>\n",
       "    <tr>\n",
       "      <th>89</th>\n",
       "      <td>danni walk 15 mile 3 mile per hour long danni ...</td>\n",
       "      <td>15 miles divided by 3 miles per hour = 5 hours.</td>\n",
       "      <td>4</td>\n",
       "    </tr>\n",
       "    <tr>\n",
       "      <th>90</th>\n",
       "      <td>roy sprint 30 mile 6 mile per hour long roy sp...</td>\n",
       "      <td>30 miles divided by 6 miles per hour = 5 hours.</td>\n",
       "      <td>4</td>\n",
       "    </tr>\n",
       "    <tr>\n",
       "      <th>91</th>\n",
       "      <td>harri wander 5 hour get pam hous 20 mile hous ...</td>\n",
       "      <td>20 miles divided by 5 hours = 4 miles per hour.</td>\n",
       "      <td>4</td>\n",
       "    </tr>\n",
       "  </tbody>\n",
       "</table>\n",
       "<p>2666 rows × 3 columns</p>\n",
       "</div>"
      ],
      "text/plain": [
       "                                              Problem  \\\n",
       "0   summer holiday ginni earn extra money mow lawn...   \n",
       "1   class made 360 cooki school fair famili prepar...   \n",
       "2   mom bought daughter molli 4 gift 24 sun max 6 ...   \n",
       "3   5th grade student go excurs mean 125 student m...   \n",
       "4   mom bought oneyear tenni pass 300she make 12 p...   \n",
       "..                                                ...   \n",
       "87  8 x peopl orchard later noon 27 peopl left orc...   \n",
       "88  toni sprint 22 mile 4 mile per hour long toni ...   \n",
       "89  danni walk 15 mile 3 mile per hour long danni ...   \n",
       "90  roy sprint 30 mile 6 mile per hour long roy sp...   \n",
       "91  harri wander 5 hour get pam hous 20 mile hous ...   \n",
       "\n",
       "                                               Answer Grade  \n",
       "0                                            4 hours.     5  \n",
       "1                                           360:40=9.     5  \n",
       "2                                      4*24+6*18=204.     5  \n",
       "3                                            3 buses.     5  \n",
       "4                                                $25.     5  \n",
       "..                                                ...   ...  \n",
       "87                            x = 30 + 27 = 57 people     5  \n",
       "88   22 miles divided by 4 miles per hour = 5.5 ho...     4  \n",
       "89    15 miles divided by 3 miles per hour = 5 hours.     4  \n",
       "90    30 miles divided by 6 miles per hour = 5 hours.     4  \n",
       "91    20 miles divided by 5 hours = 4 miles per hour.     4  \n",
       "\n",
       "[2666 rows x 3 columns]"
      ]
     },
     "execution_count": 48,
     "metadata": {},
     "output_type": "execute_result"
    }
   ],
   "source": [
    "df_f"
   ]
  },
  {
   "cell_type": "markdown",
   "id": "3b380aa8",
   "metadata": {},
   "source": [
    "# Conetent based recommender system"
   ]
  },
  {
   "cell_type": "code",
   "execution_count": 75,
   "id": "f57ba258",
   "metadata": {},
   "outputs": [],
   "source": [
    "df_f['Grade'] = pd.to_numeric(df_f['Grade'], errors='coerce')"
   ]
  },
  {
   "cell_type": "code",
   "execution_count": 78,
   "id": "7ff07f9c",
   "metadata": {},
   "outputs": [
    {
     "name": "stdout",
     "output_type": "stream",
     "text": [
      "mom bought daughter molli 4 gift 24 sun max 6 gift 18 eachhow much money spend total\n",
      "mom bought oneyear tenni pass 300she make 12 payment much money pay pass\n",
      "bob 24 pencil box eighteen pencil 2 mark 6 mark fraction pencil mark 3\n"
     ]
    }
   ],
   "source": [
    "from sklearn.feature_extraction.text import TfidfVectorizer\n",
    "from sklearn.metrics.pairwise import cosine_similarity\n",
    "\n",
    "vectorizer = CountVectorizer(stop_words='english', max_df=0.9)\n",
    "\n",
    "\n",
    "grade = 5\n",
    "df_filtered = df_f[df_f['Grade'] == grade]\n",
    "\n",
    "if not df_filtered.empty:\n",
    "    # Convert text data into a proper format\n",
    "    corpus = df_filtered['Problem'].values.astype('U')\n",
    "    tfidf_matrix = vectorizer.fit_transform(corpus)\n",
    "\n",
    "    # Calculate cosine similarity between TF-IDF vectors\n",
    "    similarity_matrix = cosine_similarity(tfidf_matrix)\n",
    "\n",
    "    # Recommend similar problems for a given problem index\n",
    "    problem_index = 2\n",
    "    similar_problem_indices = similarity_matrix[problem_index].argsort()[::-1][1:4]\n",
    "\n",
    "    for i in similar_problem_indices:\n",
    "        print(df_filtered[\"Problem\"][i])\n",
    "else:\n",
    "    print(f\"No problems found for grade {grade}.\")"
   ]
  },
  {
   "cell_type": "markdown",
   "id": "554bdd97",
   "metadata": {},
   "source": [
    "# Grade Predection (Decision Tree Classifer, naive bayes, SVM)"
   ]
  },
  {
   "cell_type": "code",
   "execution_count": 105,
   "id": "4d0b8362",
   "metadata": {},
   "outputs": [],
   "source": [
    "#Decision Tree Classifer\n",
    "X_train, X_test, y_train, y_test = train_test_split(X, y, test_size=0.3, random_state=1)"
   ]
  },
  {
   "cell_type": "code",
   "execution_count": 106,
   "id": "47c144e5",
   "metadata": {},
   "outputs": [],
   "source": [
    "clf = DecisionTreeClassifier()\n",
    "\n",
    "# Train Decision Tree Classifer\n",
    "clf = clf.fit(X_train,y_train)\n",
    "\n",
    "#Predict the response for test dataset\n",
    "y_pred = clf.predict(X_test)"
   ]
  },
  {
   "cell_type": "code",
   "execution_count": 107,
   "id": "e2167087",
   "metadata": {},
   "outputs": [
    {
     "name": "stdout",
     "output_type": "stream",
     "text": [
      "Accuracy: 0.8033635187580854\n"
     ]
    }
   ],
   "source": [
    "accuracy = accuracy_score(y_test, y_pred)\n",
    "print(\"Accuracy:\", accuracy)"
   ]
  },
  {
   "cell_type": "code",
   "execution_count": 108,
   "id": "b7935062",
   "metadata": {},
   "outputs": [],
   "source": [
    "#naive bayes\n",
    "X_train, X_test, y_train, y_test = train_test_split(X, y, test_size=0.3, random_state = 42)"
   ]
  },
  {
   "cell_type": "code",
   "execution_count": 109,
   "id": "18a3a63f",
   "metadata": {},
   "outputs": [
    {
     "name": "stdout",
     "output_type": "stream",
     "text": [
      "accuracy 0.7904269081500647\n",
      "              precision    recall  f1-score   support\n",
      "\n",
      "           1       1.00      0.03      0.05        37\n",
      "           2       0.90      0.51      0.65        53\n",
      "           3       0.83      0.63      0.71        99\n",
      "           4       0.79      0.78      0.78       135\n",
      "           5       0.68      0.47      0.56        55\n",
      "           6       0.79      0.99      0.88       394\n",
      "\n",
      "    accuracy                           0.79       773\n",
      "   macro avg       0.83      0.57      0.61       773\n",
      "weighted avg       0.80      0.79      0.76       773\n",
      "\n"
     ]
    }
   ],
   "source": [
    "from sklearn.naive_bayes import MultinomialNB\n",
    "from sklearn.pipeline import Pipeline\n",
    "nb = Pipeline([\n",
    "               ('clf', MultinomialNB()),\n",
    "              ])\n",
    "nb.fit(X_train, y_train)\n",
    "\n",
    "from sklearn.metrics import classification_report\n",
    "y_pred = nb.predict(X_test)\n",
    "\n",
    "print('accuracy %s' % accuracy_score(y_pred, y_test))\n",
    "print(classification_report(y_test, y_pred,target_names=Grade))"
   ]
  },
  {
   "cell_type": "code",
   "execution_count": 110,
   "id": "411b9ab7",
   "metadata": {},
   "outputs": [
    {
     "name": "stdout",
     "output_type": "stream",
     "text": [
      "accuracy 0.8680465717981889\n",
      "              precision    recall  f1-score   support\n",
      "\n",
      "           1       0.64      0.57      0.60        37\n",
      "           2       0.70      0.70      0.70        53\n",
      "           3       0.84      0.77      0.80        99\n",
      "           4       0.79      0.81      0.80       135\n",
      "           5       0.79      0.67      0.73        55\n",
      "           6       0.95      0.99      0.97       394\n",
      "\n",
      "    accuracy                           0.87       773\n",
      "   macro avg       0.78      0.75      0.77       773\n",
      "weighted avg       0.86      0.87      0.87       773\n",
      "\n"
     ]
    }
   ],
   "source": [
    "#Linear Support Vector Machine\n",
    "from sklearn.linear_model import SGDClassifier\n",
    "\n",
    "sgd = Pipeline([\n",
    "                ('clf', SGDClassifier(loss='hinge', penalty='l2',alpha=1e-3, random_state=42, max_iter=5, tol=None)),\n",
    "               ])\n",
    "sgd.fit(X_train, y_train)\n",
    "\n",
    "\n",
    "y_pred = sgd.predict(X_test)\n",
    "\n",
    "print('accuracy %s' % accuracy_score(y_pred, y_test))\n",
    "print(classification_report(y_test, y_pred,target_names=Grade))"
   ]
  },
  {
   "cell_type": "code",
   "execution_count": 111,
   "id": "cd4748b4",
   "metadata": {},
   "outputs": [],
   "source": [
    "Xp =topre.apply(lambda x: x.Problem+str(x.Answer),axis=1)\n",
    "Xp_transformed = vectorizer.transform(Xp)"
   ]
  },
  {
   "cell_type": "code",
   "execution_count": 112,
   "id": "603ecee4",
   "metadata": {},
   "outputs": [
    {
     "data": {
      "text/html": [
       "<div>\n",
       "<style scoped>\n",
       "    .dataframe tbody tr th:only-of-type {\n",
       "        vertical-align: middle;\n",
       "    }\n",
       "\n",
       "    .dataframe tbody tr th {\n",
       "        vertical-align: top;\n",
       "    }\n",
       "\n",
       "    .dataframe thead th {\n",
       "        text-align: right;\n",
       "    }\n",
       "</style>\n",
       "<table border=\"1\" class=\"dataframe\">\n",
       "  <thead>\n",
       "    <tr style=\"text-align: right;\">\n",
       "      <th></th>\n",
       "      <th>Problem</th>\n",
       "      <th>Answer</th>\n",
       "      <th>Grade</th>\n",
       "    </tr>\n",
       "  </thead>\n",
       "  <tbody>\n",
       "    <tr>\n",
       "      <th>0</th>\n",
       "      <td>peter eight appl denni give peter three mani a...</td>\n",
       "      <td>8 apples + 3 apples = 11 apples.</td>\n",
       "      <td>4</td>\n",
       "    </tr>\n",
       "    <tr>\n",
       "      <th>1</th>\n",
       "      <td>ann seven candi lack give seven candi mani can...</td>\n",
       "      <td>7 candies + 7 candies = 14 candies.</td>\n",
       "      <td>1</td>\n",
       "    </tr>\n",
       "    <tr>\n",
       "      <th>2</th>\n",
       "      <td>walter two book matt nine book matt give book ...</td>\n",
       "      <td>2 books + 9 books = 11 books.</td>\n",
       "      <td>2</td>\n",
       "    </tr>\n",
       "    <tr>\n",
       "      <th>3</th>\n",
       "      <td>three crayon tabl albert put five crayon tabl ...</td>\n",
       "      <td>3 crayons + 5 crayons = 8 crayons.</td>\n",
       "      <td>3</td>\n",
       "    </tr>\n",
       "    <tr>\n",
       "      <th>4</th>\n",
       "      <td>bill nine orang friend one orang friend give o...</td>\n",
       "      <td>9 oranges + 1 orange = 10 oranges.</td>\n",
       "      <td>1</td>\n",
       "    </tr>\n",
       "  </tbody>\n",
       "</table>\n",
       "</div>"
      ],
      "text/plain": [
       "                                             Problem  \\\n",
       "0  peter eight appl denni give peter three mani a...   \n",
       "1  ann seven candi lack give seven candi mani can...   \n",
       "2  walter two book matt nine book matt give book ...   \n",
       "3  three crayon tabl albert put five crayon tabl ...   \n",
       "4  bill nine orang friend one orang friend give o...   \n",
       "\n",
       "                                 Answer Grade  \n",
       "0      8 apples + 3 apples = 11 apples.     4  \n",
       "1   7 candies + 7 candies = 14 candies.     1  \n",
       "2         2 books + 9 books = 11 books.     2  \n",
       "3    3 crayons + 5 crayons = 8 crayons.     3  \n",
       "4    9 oranges + 1 orange = 10 oranges.     1  "
      ]
     },
     "execution_count": 112,
     "metadata": {},
     "output_type": "execute_result"
    }
   ],
   "source": [
    "ypred = sgd.predict(Xp_transformed)\n",
    "topre[\"Grade\"] = ypred\n",
    "topre.head()"
   ]
  },
  {
   "cell_type": "code",
   "execution_count": null,
   "id": "2716756f",
   "metadata": {},
   "outputs": [],
   "source": []
  }
 ],
 "metadata": {
  "kernelspec": {
   "display_name": "Python 3 (ipykernel)",
   "language": "python",
   "name": "python3"
  },
  "language_info": {
   "codemirror_mode": {
    "name": "ipython",
    "version": 3
   },
   "file_extension": ".py",
   "mimetype": "text/x-python",
   "name": "python",
   "nbconvert_exporter": "python",
   "pygments_lexer": "ipython3",
   "version": "3.9.13"
  }
 },
 "nbformat": 4,
 "nbformat_minor": 5
}
